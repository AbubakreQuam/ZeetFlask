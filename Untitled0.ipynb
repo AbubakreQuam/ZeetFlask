{
  "nbformat": 4,
  "nbformat_minor": 0,
  "metadata": {
    "colab": {
      "provenance": [],
      "mount_file_id": "1yeekOPytC-SSj1-sI6iGIG0_Q2c0mhB-",
      "authorship_tag": "ABX9TyO2BMynRK6yAv8B/R2Z9shS",
      "include_colab_link": true
    },
    "kernelspec": {
      "name": "python3",
      "display_name": "Python 3"
    },
    "language_info": {
      "name": "python"
    }
  },
  "cells": [
    {
      "cell_type": "markdown",
      "metadata": {
        "id": "view-in-github",
        "colab_type": "text"
      },
      "source": [
        "<a href=\"https://colab.research.google.com/github/AbubakreQuam/ZeetFlask/blob/main/Untitled0.ipynb\" target=\"_parent\"><img src=\"https://colab.research.google.com/assets/colab-badge.svg\" alt=\"Open In Colab\"/></a>"
      ]
    },
    {
      "cell_type": "code",
      "source": [
        "from faker import Faker\n",
        "import random\n",
        "import csv\n",
        "import pandas as pd\n",
        "\n",
        "\n",
        "fake = Faker()\n",
        "\n",
        "data = []\n",
        "\n",
        "for _ in range(450000):\n",
        "\n",
        "    '''entry = {\n",
        "        'age': random.randint(18, 35),\n",
        "        'gender': random.choice(['Male', 'Female']),\n",
        "        'systolic_pressure': random.randint(90, 180),\n",
        "        'diastolic_pressure': random.randint(60, 120),\n",
        "        'pulse_rate': random.randint(60, 100),\n",
        "        'sleep_rate': random.randint(5, 9),\n",
        "        'weight': random.randint(40, 100),\n",
        "    }\n",
        "\n",
        "    data.append(entry)\n",
        "\n",
        "filename = 'data1.csv'\n",
        "keys = data[0].keys()\n",
        "\n",
        "with open(filename, 'w', newline='') as file:\n",
        "    writer = csv.DictWriter(file, fieldnames=keys)\n",
        "    writer.writeheader()\n",
        "    writer.writerows(data)'''\n",
        "\n",
        "\n",
        "# Load the dataset\n",
        "data = pd.read_csv('data1.csv')\n",
        "\n",
        "# Define the blood pressure categories\n",
        "blood_pressure_categories = {\n",
        "    'low': (data['systolic_pressure'] < 90) | (data['diastolic_pressure'] < 60),\n",
        "    'normal': (data['systolic_pressure'].between(90, 119)) & (data['diastolic_pressure'].between(60, 79)),\n",
        "    'high': (data['systolic_pressure'].between(120, 129)) & (data['diastolic_pressure'].between(80, 89)),\n",
        "    'developing to get high': (data['systolic_pressure'].between(130, 139)) | (data['diastolic_pressure'].between(90, 99)),\n",
        "    'developing to get low': (data['systolic_pressure'].between(90, 119)) & (data['diastolic_pressure'].between(80, 89)),\n",
        "    'very high': (data['systolic_pressure'] >= 140) | (data['diastolic_pressure'] >= 100),\n",
        "    'deadly': (data['systolic_pressure'] >= 180) | (data['diastolic_pressure'] >= 120)\n",
        "}\n",
        "\n",
        "# Create a new column in the dataset with the blood pressure categories\n",
        "data['bp_status'] = ''\n",
        "for category, mask in blood_pressure_categories.items():\n",
        "    data.loc[mask, 'bp_status'] = category\n",
        "# Save the updated dataset\n",
        "data.to_csv('blood_pressure_data_with_categories.csv', index=False)\n"
      ],
      "metadata": {
        "id": "GdxzBPKSagJI",
        "outputId": "a386335c-6056-4ddc-b79b-e68917f1ded2",
        "colab": {
          "base_uri": "https://localhost:8080/",
          "height": 374
        }
      },
      "execution_count": null,
      "outputs": [
        {
          "output_type": "error",
          "ename": "ModuleNotFoundError",
          "evalue": "ignored",
          "traceback": [
            "\u001b[0;31m---------------------------------------------------------------------------\u001b[0m",
            "\u001b[0;31mModuleNotFoundError\u001b[0m                       Traceback (most recent call last)",
            "\u001b[0;32m<ipython-input-1-6e0df83408da>\u001b[0m in \u001b[0;36m<cell line: 1>\u001b[0;34m()\u001b[0m\n\u001b[0;32m----> 1\u001b[0;31m \u001b[0;32mfrom\u001b[0m \u001b[0mfaker\u001b[0m \u001b[0;32mimport\u001b[0m \u001b[0mFaker\u001b[0m\u001b[0;34m\u001b[0m\u001b[0;34m\u001b[0m\u001b[0m\n\u001b[0m\u001b[1;32m      2\u001b[0m \u001b[0;32mimport\u001b[0m \u001b[0mrandom\u001b[0m\u001b[0;34m\u001b[0m\u001b[0;34m\u001b[0m\u001b[0m\n\u001b[1;32m      3\u001b[0m \u001b[0;32mimport\u001b[0m \u001b[0mcsv\u001b[0m\u001b[0;34m\u001b[0m\u001b[0;34m\u001b[0m\u001b[0m\n\u001b[1;32m      4\u001b[0m \u001b[0;32mimport\u001b[0m \u001b[0mpandas\u001b[0m \u001b[0;32mas\u001b[0m \u001b[0mpd\u001b[0m\u001b[0;34m\u001b[0m\u001b[0;34m\u001b[0m\u001b[0m\n\u001b[1;32m      5\u001b[0m \u001b[0;34m\u001b[0m\u001b[0m\n",
            "\u001b[0;31mModuleNotFoundError\u001b[0m: No module named 'faker'",
            "",
            "\u001b[0;31m---------------------------------------------------------------------------\u001b[0;32m\nNOTE: If your import is failing due to a missing package, you can\nmanually install dependencies using either !pip or !apt.\n\nTo view examples of installing some common dependencies, click the\n\"Open Examples\" button below.\n\u001b[0;31m---------------------------------------------------------------------------\u001b[0m\n"
          ],
          "errorDetails": {
            "actions": [
              {
                "action": "open_url",
                "actionText": "Open Examples",
                "url": "/notebooks/snippets/importing_libraries.ipynb"
              }
            ]
          }
        }
      ]
    },
    {
      "cell_type": "code",
      "source": [
        "pip install Faker\n"
      ],
      "metadata": {
        "colab": {
          "base_uri": "https://localhost:8080/"
        },
        "id": "6w9QpxNHQEml",
        "outputId": "ae846387-9030-46a8-aa4a-987e93042068"
      },
      "execution_count": null,
      "outputs": [
        {
          "output_type": "stream",
          "name": "stdout",
          "text": [
            "Looking in indexes: https://pypi.org/simple, https://us-python.pkg.dev/colab-wheels/public/simple/\n",
            "Collecting Faker\n",
            "  Downloading Faker-18.9.0-py3-none-any.whl (1.7 MB)\n",
            "\u001b[2K     \u001b[90m━━━━━━━━━━━━━━━━━━━━━━━━━━━━━━━━━━━━━━━━\u001b[0m \u001b[32m1.7/1.7 MB\u001b[0m \u001b[31m22.7 MB/s\u001b[0m eta \u001b[36m0:00:00\u001b[0m\n",
            "\u001b[?25hRequirement already satisfied: python-dateutil>=2.4 in /usr/local/lib/python3.10/dist-packages (from Faker) (2.8.2)\n",
            "Requirement already satisfied: six>=1.5 in /usr/local/lib/python3.10/dist-packages (from python-dateutil>=2.4->Faker) (1.16.0)\n",
            "Installing collected packages: Faker\n",
            "Successfully installed Faker-18.9.0\n"
          ]
        }
      ]
    },
    {
      "cell_type": "code",
      "source": [
        "from sklearn.ensemble import RandomForestClassifier\n",
        "from sklearn.model_selection import train_test_split\n",
        "from sklearn.metrics import accuracy_score, classification_report\n",
        "import pandas as pd\n",
        "from joblib import dump, load\n",
        "\n",
        "model = load(open('blood_pressure_model.pkl', 'rb'))\n",
        "\n",
        "data = pd.read_csv(\"blood_pressure_data_with_categories.csv\")\n",
        "\n",
        "# Preprocess the data\n",
        "X = data[['age', 'gender', 'systolic_pressure', 'diastolic_pressure', 'pulse_rate', 'sleep_rate', 'weight']]\n",
        "y = data['bp_status']\n",
        "\n",
        "# Perform one-hot encoding on categorical variables\n",
        "X = pd.get_dummies(X, columns=['gender'])\n",
        "\n",
        "# Split the data into training and testing sets\n",
        "X_train, X_test, y_train, y_test = train_test_split(X, y, test_size=0.2, random_state=42)\n",
        "\n",
        "# Train the model\n",
        "#model = RandomForestClassifier(n_estimators=100, max_depth=10, random_state=42)\n",
        "model.fit(X_train, y_train)\n",
        "\n",
        "# Save the model\n",
        "dump(model, 'blood_pressure_model.pkl')\n",
        "\n",
        "# Load the saved model\n",
        "model = load('blood_pressure_model.pkl')\n",
        "\n",
        "# Predict using the trained model\n",
        "y_pred = model.predict(X_test)\n",
        "\n",
        "# Evaluate the model\n",
        "accuracy = accuracy_score(y_test, y_pred)\n",
        "report = classification_report(y_test, y_pred)\n",
        "\n",
        "print('Accuracy:', accuracy)\n",
        "print('Classification report:\\n', report)\n",
        "print(\"Accuracy: {:.2f}%\".format(accuracy * 100))\n",
        "print(y_pred)\n"
      ],
      "metadata": {
        "colab": {
          "base_uri": "https://localhost:8080/"
        },
        "id": "yIHjmQx81SSD",
        "outputId": "47746daf-ca64-4fff-f313-086d9e4a628e"
      },
      "execution_count": null,
      "outputs": [
        {
          "output_type": "stream",
          "name": "stdout",
          "text": [
            "Accuracy: 1.0\n",
            "Classification report:\n",
            "                         precision    recall  f1-score   support\n",
            "\n",
            "                deadly       1.00      1.00      1.00      2468\n",
            "developing to get high       1.00      1.00      1.00     13022\n",
            " developing to get low       1.00      1.00      1.00      4784\n",
            "                  high       1.00      1.00      1.00      1649\n",
            "                normal       1.00      1.00      1.00      9633\n",
            "             very high       1.00      1.00      1.00     55192\n",
            "\n",
            "              accuracy                           1.00     86748\n",
            "             macro avg       1.00      1.00      1.00     86748\n",
            "          weighted avg       1.00      1.00      1.00     86748\n",
            "\n",
            "Accuracy: 100.00%\n",
            "['very high' 'very high' 'very high' ... 'very high' 'very high' 'normal']\n"
          ]
        }
      ]
    },
    {
      "cell_type": "code",
      "source": [
        "import pickle\n",
        "\n",
        "# Load the trained model\n",
        "model = load(open('blood_pressure_model.pkl', 'rb'))\n",
        "\n",
        "# Preprocess the input data\n",
        "\n",
        "data = pd.read_csv(\"blood_pressure_data_with_categories.csv\")\n",
        "\n",
        "# Preprocess the data\n",
        "X = data[['age', 'gender', 'systolic_pressure', 'diastolic_pressure', 'pulse_rate', 'sleep_rate', 'weight']]\n",
        "y = data['bp_status']\n",
        "\n",
        "# Perform one-hot encoding on categorical variables\n",
        "X = pd.get_dummies(X, columns=['gender'])\n",
        "\n",
        "# Make a prediction using the model\n",
        "prediction = model.predict(X)\n",
        "\n",
        "print(prediction)\n",
        "\n",
        "'''\"\"\"# Map the predicted value to a status\n",
        "status = {\n",
        "    0: 'low',\n",
        "    1: 'normal',\n",
        "    2: 'high',\n",
        "    3: 'developing to get high',\n",
        "    4: 'developing to get low',\n",
        "    5: 'very high',\n",
        "    6: 'deadly'\n",
        "}[prediction[0]]\n",
        "\n",
        "# Provide advice based on each factor\n",
        "advice = {}\n",
        "if age > 60:\n",
        "    advice['age'] = 'Your age is above 60, which puts you at higher risk for high blood pressure. Consider making lifestyle changes and speaking with your doctor.'\n",
        "else:\n",
        "    advice['age'] = 'Your age is within a healthy range.'\n",
        "\n",
        "if gender == 'Male':\n",
        "    advice['gender'] = 'Men are at a higher risk for high blood pressure. Consider making lifestyle changes and speaking with your doctor.'\n",
        "else:\n",
        "    advice['gender'] = 'Women are at a lower risk for high blood pressure, but still need to be mindful of their blood pressure levels.'\n",
        "\n",
        "if systolic_pressure < 120 and diastolic_pressure < 80:\n",
        "    advice['pressure'] = 'Your blood pressure is within a healthy range.'\n",
        "elif systolic_pressure >= 120 and systolic_pressure <= 129 and diastolic_pressure < 80:\n",
        "    advice['pressure'] = 'Your blood pressure is elevated. Consider making lifestyle changes and monitoring your blood pressure levels.'\n",
        "elif systolic_pressure >= 130 and systolic_pressure <= 139 or diastolic_pressure >= 80 and diastolic_pressure <= 89:\n",
        "    advice['pressure'] = 'Your blood pressure is in the high normal range. Consider making lifestyle changes and speaking with your doctor.'\n",
        "elif systolic_pressure >= 140 or diastolic_pressure >= 90:\n",
        "    advice['pressure'] = 'Your blood pressure is high. Speak with your doctor as soon as possible.'\"\"\"\n",
        "\n",
        "\"\"\"if pulse_rate < 60 or pulse_rate > 100:\n",
        "    advice['pulse_rate'] = 'Your pulse rate is outside of the healthy range. Speak with your doctor to determine the cause.'\n",
        "else:\n",
        "    advice['pulse_rate'] = 'Your pulse rate is within a healthy range.'\n",
        "\n",
        "if sleep_rate < 7:\n",
        "    advice['sleep_rate'] = 'Your sleep rate is below the recommended amount. Consider making changes to improve your sleep hygiene.'\n",
        "elif sleep_rate >= 7 and sleep_rate <= 9:\n",
        "    advice['sleep_rate'] = 'Your sleep rate is within the recommended range.'\n",
        "else:\n",
        "    advice['sleep_rate'] = 'Your sleep rate is above the recommended range. Consider speaking with your doctor.'\n",
        "\n",
        "if weight < 18.5:\n",
        "    advice['weight'] = 'Your BMI is underweight. Speak with your doctor to determine.'\n",
        "\n",
        "print(advice)\"\"\"'''"
      ],
      "metadata": {
        "colab": {
          "base_uri": "https://localhost:8080/",
          "height": 278
        },
        "id": "qs5n6Ky_8hBX",
        "outputId": "8674d32a-6b47-451a-cbca-baebb8759652"
      },
      "execution_count": null,
      "outputs": [
        {
          "output_type": "stream",
          "name": "stdout",
          "text": [
            "['very high' 'very high' 'very high' ... 'developing to get high'\n",
            " 'very high' 'very high']\n"
          ]
        },
        {
          "output_type": "execute_result",
          "data": {
            "text/plain": [
              "'\"\"\"# Map the predicted value to a status\\nstatus = {\\n    0: \\'low\\',\\n    1: \\'normal\\',\\n    2: \\'high\\',\\n    3: \\'developing to get high\\',\\n    4: \\'developing to get low\\',\\n    5: \\'very high\\',\\n    6: \\'deadly\\'\\n}[prediction[0]]\\n\\n# Provide advice based on each factor\\nadvice = {}\\nif age > 60:\\n    advice[\\'age\\'] = \\'Your age is above 60, which puts you at higher risk for high blood pressure. Consider making lifestyle changes and speaking with your doctor.\\'\\nelse:\\n    advice[\\'age\\'] = \\'Your age is within a healthy range.\\'\\n\\nif gender == \\'Male\\':\\n    advice[\\'gender\\'] = \\'Men are at a higher risk for high blood pressure. Consider making lifestyle changes and speaking with your doctor.\\'\\nelse:\\n    advice[\\'gender\\'] = \\'Women are at a lower risk for high blood pressure, but still need to be mindful of their blood pressure levels.\\'\\n\\nif systolic_pressure < 120 and diastolic_pressure < 80:\\n    advice[\\'pressure\\'] = \\'Your blood pressure is within a healthy range.\\'\\nelif systolic_pressure >= 120 and systolic_pressure <= 129 and diastolic_pressure < 80:\\n    advice[\\'pressure\\'] = \\'Your blood pressure is elevated. Consider making lifestyle changes and monitoring your blood pressure levels.\\'\\nelif systolic_pressure >= 130 and systolic_pressure <= 139 or diastolic_pressure >= 80 and diastolic_pressure <= 89:\\n    advice[\\'pressure\\'] = \\'Your blood pressure is in the high normal range. Consider making lifestyle changes and speaking with your doctor.\\'\\nelif systolic_pressure >= 140 or diastolic_pressure >= 90:\\n    advice[\\'pressure\\'] = \\'Your blood pressure is high. Speak with your doctor as soon as possible.\\'\"\"\"\\n\\n\"\"\"if pulse_rate < 60 or pulse_rate > 100:\\n    advice[\\'pulse_rate\\'] = \\'Your pulse rate is outside of the healthy range. Speak with your doctor to determine the cause.\\'\\nelse:\\n    advice[\\'pulse_rate\\'] = \\'Your pulse rate is within a healthy range.\\'\\n\\nif sleep_rate < 7:\\n    advice[\\'sleep_rate\\'] = \\'Your sleep rate is below the recommended amount. Consider making changes to improve your sleep hygiene.\\'\\nelif sleep_rate >= 7 and sleep_rate <= 9:\\n    advice[\\'sleep_rate\\'] = \\'Your sleep rate is within the recommended range.\\'\\nelse:\\n    advice[\\'sleep_rate\\'] = \\'Your sleep rate is above the recommended range. Consider speaking with your doctor.\\'\\n\\nif weight < 18.5:\\n    advice[\\'weight\\'] = \\'Your BMI is underweight. Speak with your doctor to determine.\\'\\n\\nprint(advice)\"\"\"'"
            ],
            "application/vnd.google.colaboratory.intrinsic+json": {
              "type": "string"
            }
          },
          "metadata": {},
          "execution_count": 25
        }
      ]
    },
    {
      "cell_type": "code",
      "source": [
        "import pandas as pd\n",
        "\n",
        "# Assuming your dataset is stored in a pandas DataFrame called 'data'\n",
        "# You can load your dataset or create it using pandas\n",
        "#data = pd.read_csv(\"\")\n",
        "data = pd.read_csv(\"blood_pressure_data_with_categories.csv\")\n",
        "# Iterate over the rows of the DataFrame\n",
        "for index, row in data.iterrows():\n",
        "    # Check if any cell in the row is empty\n",
        "    if row.isnull().values.any():\n",
        "        # Delete the row with empty cells\n",
        "        data.drop(index, inplace=True)\n",
        "\n",
        "# Save the filtered data to a CSV file\n",
        "data.to_csv('blood_pressure_data_with_categories.csv', index=False)\n",
        "\n",
        "\n"
      ],
      "metadata": {
        "id": "IiNn98GO-g-t"
      },
      "execution_count": null,
      "outputs": []
    },
    {
      "cell_type": "code",
      "source": [
        "import pandas as pd\n",
        "\n",
        "# Assuming your dataset is stored in a pandas DataFrame called 'data'\n",
        "# You can load your dataset or create it using pandas\n",
        "data =\n",
        "# Iterate over the rows of the DataFrame\n",
        "for index, row in data.iterrows():\n",
        "    # Check if any cell in the row is empty\n",
        "    if row.isnull().values.any():\n",
        "        # Delete the row with empty cells\n",
        "        data.drop(index, inplace=True)\n",
        "\n",
        "# Save the filtered data to a CSV file\n",
        "data.to_csv('bp_pressure.csv', index=False)"
      ],
      "metadata": {
        "id": "GrN6hPM3IQFq"
      },
      "execution_count": null,
      "outputs": []
    }
  ]
}